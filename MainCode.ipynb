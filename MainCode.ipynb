{
 "cells": [
  {
   "cell_type": "code",
   "execution_count": 42,
   "id": "5256fc79",
   "metadata": {},
   "outputs": [
    {
     "name": "stdout",
     "output_type": "stream",
     "text": [
      "(167, 7)\n"
     ]
    },
    {
     "data": {
      "text/html": [
       "<div>\n",
       "<style scoped>\n",
       "    .dataframe tbody tr th:only-of-type {\n",
       "        vertical-align: middle;\n",
       "    }\n",
       "\n",
       "    .dataframe tbody tr th {\n",
       "        vertical-align: top;\n",
       "    }\n",
       "\n",
       "    .dataframe thead th {\n",
       "        text-align: right;\n",
       "    }\n",
       "</style>\n",
       "<table border=\"1\" class=\"dataframe\">\n",
       "  <thead>\n",
       "    <tr style=\"text-align: right;\">\n",
       "      <th></th>\n",
       "      <th>Solute</th>\n",
       "      <th>Solute_V</th>\n",
       "      <th>Solvent</th>\n",
       "      <th>Solvent_V</th>\n",
       "      <th>Aldehyde</th>\n",
       "      <th>Aldehyde_V</th>\n",
       "      <th>Reaction</th>\n",
       "    </tr>\n",
       "  </thead>\n",
       "  <tbody>\n",
       "    <tr>\n",
       "      <th>0</th>\n",
       "      <td>a-m-BzOH</td>\n",
       "      <td>150</td>\n",
       "      <td>chloroform</td>\n",
       "      <td>48.0</td>\n",
       "      <td>benzophenone</td>\n",
       "      <td>2.0</td>\n",
       "      <td>1.646</td>\n",
       "    </tr>\n",
       "    <tr>\n",
       "      <th>1</th>\n",
       "      <td>BzOH</td>\n",
       "      <td>180</td>\n",
       "      <td>chloroform</td>\n",
       "      <td>18.0</td>\n",
       "      <td>benzophenone</td>\n",
       "      <td>2.0</td>\n",
       "      <td>1.614</td>\n",
       "    </tr>\n",
       "    <tr>\n",
       "      <th>2</th>\n",
       "      <td>a-m-BzOH</td>\n",
       "      <td>150</td>\n",
       "      <td>butanone</td>\n",
       "      <td>48.0</td>\n",
       "      <td>xanthone</td>\n",
       "      <td>2.0</td>\n",
       "      <td>1.597</td>\n",
       "    </tr>\n",
       "    <tr>\n",
       "      <th>3</th>\n",
       "      <td>a-m-BzOH</td>\n",
       "      <td>150</td>\n",
       "      <td>butanone</td>\n",
       "      <td>48.0</td>\n",
       "      <td>benzophenone</td>\n",
       "      <td>2.0</td>\n",
       "      <td>1.557</td>\n",
       "    </tr>\n",
       "    <tr>\n",
       "      <th>4</th>\n",
       "      <td>a-m-BzOH</td>\n",
       "      <td>150</td>\n",
       "      <td>butanone</td>\n",
       "      <td>48.0</td>\n",
       "      <td>acetophenone</td>\n",
       "      <td>2.0</td>\n",
       "      <td>1.477</td>\n",
       "    </tr>\n",
       "  </tbody>\n",
       "</table>\n",
       "</div>"
      ],
      "text/plain": [
       "     Solute  Solute_V     Solvent  Solvent_V      Aldehyde  Aldehyde_V  \\\n",
       "0  a-m-BzOH       150  chloroform       48.0  benzophenone         2.0   \n",
       "1      BzOH       180  chloroform       18.0  benzophenone         2.0   \n",
       "2  a-m-BzOH       150    butanone       48.0      xanthone         2.0   \n",
       "3  a-m-BzOH       150    butanone       48.0  benzophenone         2.0   \n",
       "4  a-m-BzOH       150    butanone       48.0  acetophenone         2.0   \n",
       "\n",
       "   Reaction  \n",
       "0     1.646  \n",
       "1     1.614  \n",
       "2     1.597  \n",
       "3     1.557  \n",
       "4     1.477  "
      ]
     },
     "execution_count": 42,
     "metadata": {},
     "output_type": "execute_result"
    }
   ],
   "source": [
    "import numpy as np\n",
    "import pandas as pd\n",
    "import warnings\n",
    "# import optuna\n",
    "import seaborn as sns\n",
    "from sklearn.metrics import mean_squared_error\n",
    "from sklearn.preprocessing import MinMaxScaler\n",
    "warnings.filterwarnings('ignore')\n",
    "from sklearn.ensemble import RandomForestRegressor\n",
    "from sklearn.metrics import r2_score\n",
    "import matplotlib.pyplot as plt\n",
    "dataset = pd.read_excel(\"Reaction_training_data_167.xlsx\")\n",
    "print(dataset.shape)\n",
    "store_optimize_data = []\n",
    "dataset.head()"
   ]
  },
  {
   "cell_type": "code",
   "execution_count": 43,
   "id": "beac9b2e",
   "metadata": {},
   "outputs": [
    {
     "name": "stdout",
     "output_type": "stream",
     "text": [
      "Solute        0\n",
      "Solute_V      0\n",
      "Solvent       0\n",
      "Solvent_V     0\n",
      "Aldehyde      0\n",
      "Aldehyde_V    0\n",
      "Reaction      0\n",
      "dtype: int64\n"
     ]
    }
   ],
   "source": [
    "# Find missing values\n",
    "missing_values = dataset.isnull().sum()\n",
    "\n",
    "# Display the DataFrame of missing values\n",
    "print(missing_values)"
   ]
  },
  {
   "cell_type": "code",
   "execution_count": 44,
   "id": "933345b6",
   "metadata": {},
   "outputs": [
    {
     "data": {
      "text/html": [
       "<div>\n",
       "<style scoped>\n",
       "    .dataframe tbody tr th:only-of-type {\n",
       "        vertical-align: middle;\n",
       "    }\n",
       "\n",
       "    .dataframe tbody tr th {\n",
       "        vertical-align: top;\n",
       "    }\n",
       "\n",
       "    .dataframe thead th {\n",
       "        text-align: right;\n",
       "    }\n",
       "</style>\n",
       "<table border=\"1\" class=\"dataframe\">\n",
       "  <thead>\n",
       "    <tr style=\"text-align: right;\">\n",
       "      <th></th>\n",
       "      <th>Solute_V</th>\n",
       "      <th>Solvent_V</th>\n",
       "      <th>Aldehyde_V</th>\n",
       "      <th>Reaction</th>\n",
       "    </tr>\n",
       "  </thead>\n",
       "  <tbody>\n",
       "    <tr>\n",
       "      <th>count</th>\n",
       "      <td>167.000000</td>\n",
       "      <td>167.000000</td>\n",
       "      <td>167.000000</td>\n",
       "      <td>167.000000</td>\n",
       "    </tr>\n",
       "    <tr>\n",
       "      <th>mean</th>\n",
       "      <td>137.544910</td>\n",
       "      <td>56.217006</td>\n",
       "      <td>6.238084</td>\n",
       "      <td>0.755313</td>\n",
       "    </tr>\n",
       "    <tr>\n",
       "      <th>std</th>\n",
       "      <td>30.566283</td>\n",
       "      <td>32.464548</td>\n",
       "      <td>14.332904</td>\n",
       "      <td>0.349235</td>\n",
       "    </tr>\n",
       "    <tr>\n",
       "      <th>min</th>\n",
       "      <td>20.000000</td>\n",
       "      <td>0.000000</td>\n",
       "      <td>0.000000</td>\n",
       "      <td>0.090000</td>\n",
       "    </tr>\n",
       "    <tr>\n",
       "      <th>25%</th>\n",
       "      <td>140.000000</td>\n",
       "      <td>48.000000</td>\n",
       "      <td>0.000000</td>\n",
       "      <td>0.478180</td>\n",
       "    </tr>\n",
       "    <tr>\n",
       "      <th>50%</th>\n",
       "      <td>140.000000</td>\n",
       "      <td>60.000000</td>\n",
       "      <td>0.200000</td>\n",
       "      <td>0.736000</td>\n",
       "    </tr>\n",
       "    <tr>\n",
       "      <th>75%</th>\n",
       "      <td>140.000000</td>\n",
       "      <td>60.000000</td>\n",
       "      <td>2.000000</td>\n",
       "      <td>1.000715</td>\n",
       "    </tr>\n",
       "    <tr>\n",
       "      <th>max</th>\n",
       "      <td>200.000000</td>\n",
       "      <td>180.000000</td>\n",
       "      <td>60.000000</td>\n",
       "      <td>1.646000</td>\n",
       "    </tr>\n",
       "  </tbody>\n",
       "</table>\n",
       "</div>"
      ],
      "text/plain": [
       "         Solute_V   Solvent_V  Aldehyde_V    Reaction\n",
       "count  167.000000  167.000000  167.000000  167.000000\n",
       "mean   137.544910   56.217006    6.238084    0.755313\n",
       "std     30.566283   32.464548   14.332904    0.349235\n",
       "min     20.000000    0.000000    0.000000    0.090000\n",
       "25%    140.000000   48.000000    0.000000    0.478180\n",
       "50%    140.000000   60.000000    0.200000    0.736000\n",
       "75%    140.000000   60.000000    2.000000    1.000715\n",
       "max    200.000000  180.000000   60.000000    1.646000"
      ]
     },
     "execution_count": 44,
     "metadata": {},
     "output_type": "execute_result"
    }
   ],
   "source": [
    "dataset.describe()"
   ]
  },
  {
   "cell_type": "code",
   "execution_count": 45,
   "id": "db5a4452-5510-460d-91ee-86c80ed46af2",
   "metadata": {},
   "outputs": [
    {
     "data": {
      "image/png": "[encoded data removed]",
      "text/plain": [
       "<Figure size 576x432 with 2 Axes>"
      ]
     },
     "metadata": {},
     "output_type": "display_data"
    }
   ],
   "source": [
    "plt.figure(figsize=(8, 6))\n",
    "sns.heatmap(dataset.corr(), annot=True, cmap='viridis',cbar=True)\n",
    "# plt.title('Comparison of MPC vs RLC Actions - Values within Tolerance Count')\n",
    "# plt.xlabel('RLC Parameters')\n",
    "# plt.ylabel('MPC Parameters')\n",
    "plt.savefig(\"heatmap_165.png\", dpi=600, bbox_inches='tight')\n",
    "plt.show()"
   ]
  },
  {
   "cell_type": "code",
   "execution_count": 46,
   "id": "e2f4d92d",
   "metadata": {},
   "outputs": [
    {
     "data": {
      "image/png": "[encoded data removed]",
      "text/plain": [
       "<Figure size 432x288 with 1 Axes>"
      ]
     },
     "metadata": {},
     "output_type": "display_data"
    }
   ],
   "source": [
    "import seaborn as sns\n",
    "import matplotlib.pyplot as plt\n",
    "\n",
    "# Assuming your dataframe is named 'df' and the categorical variable is 'salute_type'\n",
    "sns.countplot(data=dataset, x='Solute')\n",
    "\n",
    "# Optional: Add labels and title to the plot\n",
    "plt.xlabel('Salute Type')\n",
    "plt.ylabel('Count')\n",
    "plt.title('Distribution of Salute Types')\n",
    "\n",
    "# Show the plot\n",
    "plt.show()"
   ]
  },
  {
   "cell_type": "code",
   "execution_count": 47,
   "id": "30245708",
   "metadata": {},
   "outputs": [
    {
     "data": {
      "image/png": "[encoded data removed]",
      "text/plain": [
       "<Figure size 432x288 with 1 Axes>"
      ]
     },
     "metadata": {},
     "output_type": "display_data"
    }
   ],
   "source": [
    "import seaborn as sns\n",
    "import matplotlib.pyplot as plt\n",
    "\n",
    "# Assuming your dataframe is named 'df' and the categorical variable is 'salute_type'\n",
    "sns.countplot(data=dataset, x='Solvent')\n",
    "plt.xticks(rotation=90)\n",
    "# Optional: Add labels and title to the plot\n",
    "plt.xlabel('Solvent Type')\n",
    "plt.ylabel('Count')\n",
    "plt.title('Distribution of Solvent Types')\n",
    "\n",
    "# Show the plot\n",
    "plt.show()"
   ]
  },
  {
   "cell_type": "code",
   "execution_count": 48,
   "id": "7e763660",
   "metadata": {},
   "outputs": [
    {
     "data": {
      "image/png": "[encoded data removed]",
      "text/plain": [
       "<Figure size 432x288 with 1 Axes>"
      ]
     },
     "metadata": {},
     "output_type": "display_data"
    }
   ],
   "source": [
    "import seaborn as sns\n",
    "import matplotlib.pyplot as plt\n",
    "\n",
    "# Assuming your dataframe is named 'df' and the categorical variable is 'salute_type'\n",
    "sns.countplot(data=dataset, x='Aldehyde')\n",
    "plt.xticks(rotation=90)\n",
    "# Optional: Add labels and title to the plot\n",
    "plt.xlabel('Aldehyde Type')\n",
    "plt.ylabel('Count')\n",
    "plt.title('Distribution of Aldehyde Types')\n",
    "\n",
    "# Show the plot\n",
    "plt.show()"
   ]
  },
  {
   "cell_type": "code",
   "execution_count": 49,
   "id": "97f247bf",
   "metadata": {},
   "outputs": [
    {
     "data": {
      "text/plain": [
       "['Solute',\n",
       " 'Solute_V',\n",
       " 'Solvent',\n",
       " 'Solvent_V',\n",
       " 'Aldehyde',\n",
       " 'Aldehyde_V',\n",
       " 'Reaction']"
      ]
     },
     "execution_count": 49,
     "metadata": {},
     "output_type": "execute_result"
    }
   ],
   "source": [
    "dataset.columns.to_list()"
   ]
  },
  {
   "cell_type": "code",
   "execution_count": 50,
   "id": "7e979dab",
   "metadata": {},
   "outputs": [],
   "source": [
    "X = dataset[['Solute',\n",
    " 'Solute_V',\n",
    " 'Solvent',\n",
    " 'Solvent_V',\n",
    " 'Aldehyde',\n",
    " 'Aldehyde_V','Reaction']].values"
   ]
  },
  {
   "cell_type": "markdown",
   "id": "2e11d1bb",
   "metadata": {},
   "source": [
    "# Apply oneHotEncoder Transform"
   ]
  },
  {
   "cell_type": "code",
   "execution_count": 51,
   "id": "9e1d2974",
   "metadata": {},
   "outputs": [],
   "source": [
    "from sklearn.preprocessing import OneHotEncoder\n",
    "# Preprocess categorical features using OneHotEncoder\n",
    "categorical_features = [0, 2, 4]  # Specify the indices of categorical columns\n",
    "onehot_encoder = OneHotEncoder(sparse=False, handle_unknown='ignore')\n",
    "X_encoded = onehot_encoder.fit_transform(X[:, categorical_features])\n",
    "\n",
    "# Concatenate the encoded categorical features with the numerical features\n",
    "numerical_features = [1, 3, 5,6]  # Specify the indices of numerical columns\n",
    "X_processed = np.concatenate((X_encoded, X[:, numerical_features]),axis=1)"
   ]
  },
  {
   "cell_type": "code",
   "execution_count": 52,
   "id": "4f091fb0",
   "metadata": {},
   "outputs": [
    {
     "name": "stdout",
     "output_type": "stream",
     "text": [
      "(167, 40)\n"
     ]
    }
   ],
   "source": [
    "print(X_processed.shape)"
   ]
  },
  {
   "cell_type": "code",
   "execution_count": 53,
   "id": "8bba6c67",
   "metadata": {},
   "outputs": [],
   "source": [
    "import random\n",
    "import numpy as np\n",
    "\n",
    "def manual_data_split(data, train_ratio, test_ratio):\n",
    "    seed = 42\n",
    "    random.seed(seed)\n",
    "    np.random.seed(seed)\n",
    "    random.shuffle(data)\n",
    "    \n",
    "    # Separate input and output variables\n",
    "    inputs = [row[:-1] for row in data]\n",
    "    outputs = [row[-1] for row in data]\n",
    "    \n",
    "    # Calculate sizes based on ratios\n",
    "    total_size = len(data)\n",
    "    train_size = int(total_size * train_ratio)\n",
    "    test_size = total_size - train_size \n",
    "    \n",
    "    # Randomly select indices for train and test sets\n",
    "    indices = list(range(total_size))\n",
    "    random.shuffle(indices)\n",
    "    train_indices = indices[:train_size]\n",
    "    test_indices = indices[train_size:]\n",
    "    \n",
    "    # Assign data points to sets based on the selected indices\n",
    "    train_inputs = [inputs[i] for i in train_indices]\n",
    "    train_outputs = [outputs[i] for i in train_indices]\n",
    "    test_inputs = [inputs[i] for i in test_indices]\n",
    "    test_outputs = [outputs[i] for i in test_indices]\n",
    "    \n",
    "    return np.array(train_inputs), np.array(train_outputs), np.array(test_inputs), np.array(test_outputs)\n",
    "\n",
    "X_train, y_train, X_test, y_test = manual_data_split(X_processed, 0.75, 0.25)\n"
   ]
  },
  {
   "cell_type": "code",
   "execution_count": 54,
   "id": "e4d60292",
   "metadata": {
    "scrolled": true
   },
   "outputs": [
    {
     "name": "stdout",
     "output_type": "stream",
     "text": [
      "(42, 39)\n",
      "[[0.0 1.0 0.0 ... 150 48.0 2.0]\n",
      " [0.0 1.0 0.0 ... 150 48.0 2.0]\n",
      " [1.0 0.0 0.0 ... 100 98.0 2.0]\n",
      " ...\n",
      " [0.0 1.0 0.0 ... 140 60.0 0.0]\n",
      " [0.0 1.0 0.0 ... 140 20.0 40.0]\n",
      " [0.0 1.0 0.0 ... 150 48.0 2.0]]\n"
     ]
    }
   ],
   "source": [
    "print(X_test.shape)\n",
    "print(X_test)"
   ]
  },
  {
   "cell_type": "code",
   "execution_count": null,
   "id": "7649b6e0",
   "metadata": {},
   "outputs": [],
   "source": [
    "import warnings\n",
    "warnings.filterwarnings(\"ignore\")\n",
    "from sklearn.tree import DecisionTreeRegressor\n",
    "def fun3bar(X):\n",
    "    A = int(np.round(X[0]))\n",
    "    B = int(np.round(X[1]))\n",
    "    C = int(np.round(X[2]))\n",
    "    D = int(np.round(X[3]))\n",
    "    E = int(np.round(X[4]))\n",
    "   \n",
    "    RF_md = RandomForestRegressor(n_estimators = A,min_samples_split = B,min_samples_leaf = C,\n",
    "                                                    max_features = D,\n",
    "                                                max_depth = E,bootstrap = True, random_state= 313)\n",
    "    \n",
    "#     RF_md = DecisionTreeRegressor(max_depth = A, min_samples_split = B, min_samples_leaf = C,random_state=42)\n",
    "    \n",
    "    RF_md.fit(X_train,y_train)\n",
    "    train_pred = RF_md.predict(X_train)\n",
    "    train_mse = mean_squared_error(y_train,train_pred)\n",
    "    train_RMSE = np.sqrt(train_mse)\n",
    "    train_R2 = r2_score(y_train,train_pred)\n",
    "    print(\"Train R2 :\", train_R2)\n",
    "    return train_RMSE"
   ]
  },
  {
   "cell_type": "markdown",
   "id": "c9221326",
   "metadata": {},
   "source": [
    "# Optimization Algorithm"
   ]
  },
  {
   "cell_type": "code",
   "execution_count": null,
   "id": "3ada235a",
   "metadata": {
    "scrolled": true
   },
   "outputs": [],
   "source": [
    "import warnings\n",
    "warnings.filterwarnings(\"ignore\")\n",
    "lb = [2,2,1,1,5]\n",
    "ub = [1000,500,500,39,1000] \n",
    "pos = list()\n",
    "N = 20 # Population size\n",
    "D = 5   # Number of variables\n",
    "itermax = 50\n",
    "  # Upper bounds of variables%% Generating the initial population\n",
    "for i in range(0,N):\n",
    "   metric = list()\n",
    "   for j in range(0,D):\n",
    "      rad = np.random.rand()\n",
    "      pop = lb[j] + rad*(ub[j] - lb[j])\n",
    "      metric.append(pop)\n",
    "   metric = np.array(metric)\n",
    "   metric = np.reshape(metric,[1,D])\n",
    "   pos.append(metric)\n",
    "print(\"Evaluation start\")       \n",
    "# Evaluate objective function\n",
    "fx = list()\n",
    "for i in range(0,N):\n",
    "   G = pos[i] \n",
    "   X = np.reshape(G,[D,1])\n",
    "   fx_val = fun3bar(X) # compute the objective \n",
    "   fx.append(fx_val)\n",
    "# Intialize gbest\n",
    "fminvalue = np.min(fx) #Finding Minimum Value\n",
    "ind = fx.index(fminvalue)\n",
    "gbest = pos[ind] #Finding corresponding position\n",
    "# GWO main loop start\n",
    "iter = 0\n",
    "Bestfx = list()\n",
    "BestX = list()\n",
    "while iter <=itermax-1:\n",
    "    \n",
    "    Fgbest = fminvalue #Best value obtained so far\n",
    "    Best = np.min(fx) #Finding Best Value \n",
    "    Bestind = fx.index(Best)\n",
    "    Xbest = pos[Bestind]\n",
    "    Worst = np.max(fx) # Finding Worst Value\n",
    "    Worstind = fx.index(Worst)\n",
    "    Xworst = pos[Worstind]\n",
    "    for i in range(0,N):\n",
    "        X = pos[i]\n",
    "        pos1 = pos\n",
    "        rad_num = np.random.rand(1,D)\n",
    "        Xnew = X + rad_num*(Xbest - Xworst)\n",
    "       \n",
    "         # Check the bound\n",
    "        Xnew = Xnew[0]\n",
    "        for k in range(0,len(Xnew)):\n",
    "           \n",
    "           if Xnew[k] < lb[k]:\n",
    "              Xnew[k] = lb[k]\n",
    "           if Xnew[k] > ub[k]:\n",
    "              Xnew[k] = ub[k] \n",
    "        \n",
    "        fnew = fun3bar(Xnew) #  Compute the function value at Xnew\n",
    "        Xnew = np.reshape(Xnew,[1,D])\n",
    "        # Greedy selection\n",
    "        if fnew<fx[i]:  # Compare the new fitness value with previous\n",
    "            pos[i] = Xnew #Update position particles\n",
    "            fx[i] = fnew  #Update function value\n",
    "        \n",
    "    # END og for i = N loop\n",
    "    \n",
    "    # Update GBEST \n",
    "    fmin = np.min(fx)\n",
    "    find = fx.index(fmin)\n",
    "    # Compare the best value with previous one\n",
    "    if fmin<Fgbest: \n",
    "        Fgbest = fmin #Update the best function value\n",
    "        gbest = pos[find] #Update optimal solution\n",
    "    \n",
    "    # Memorize the best\n",
    "    optval = min(fx) # Finding the best one\n",
    "    optind = fx.index(optval)\n",
    "    Bestfx.append(optval) \n",
    "    BestX.append(pos[optind]) \n",
    "    \n",
    "    # Show iteration information\n",
    "    print('Iteration ',iter,':','Best Cost = ' ,Bestfx[iter])\n",
    "    # (\"plot\")\n",
    "    # Ploting the Result\n",
    "    plt.plot(Bestfx)\n",
    "    plt.xlabel('Iteration Number')\n",
    "    plt.ylabel('Fitness value')\n",
    "    plt.title('Convergence vs Iteration')\n",
    "    iter = iter + 1;\n",
    "# END while  LOOP"
   ]
  },
  {
   "cell_type": "code",
   "execution_count": null,
   "id": "55b0fa19",
   "metadata": {},
   "outputs": [],
   "source": [
    "print(\"Best Hyperparameter :\", np.round(gbest))"
   ]
  },
  {
   "cell_type": "code",
   "execution_count": 34,
   "id": "e45dc57c",
   "metadata": {},
   "outputs": [
    {
     "name": "stdout",
     "output_type": "stream",
     "text": [
      "==== Test Performance ====\n",
      "\n",
      "Test RMSE : 0.12243217756360439\n",
      "Test R2 : 0.8396200513996511\n",
      "\n",
      "==== Train Performance ====\n",
      "\n",
      "Train RMSE : 0.04052318150988118\n",
      "Train R2 : 0.9819947560275615\n"
     ]
    }
   ],
   "source": [
    "from sklearn.tree import DecisionTreeRegressor\n",
    " \n",
    "RF_md = RandomForestRegressor(n_estimators = 1000,min_samples_split = 2,min_samples_leaf = 1,\n",
    "                                                    max_features = 5,\n",
    "                                                max_depth =329,bootstrap = True, random_state= 313)\n",
    "\n",
    "# RF_md = DecisionTreeRegressor(max_depth = 966, min_samples_split = 2, min_samples_leaf = 1,random_state=42)\n",
    "            \n",
    "RF_md.fit(X_train,y_train)\n",
    "test_pred = RF_md.predict(X_test)\n",
    "train_pred = RF_md.predict(X_train)\n",
    "test_mse = mean_squared_error(y_test,test_pred,squared=True)\n",
    "train_mse = mean_squared_error(y_train,train_pred)\n",
    "train_RMSE = np.sqrt(train_mse)\n",
    "test_RMSE = np.sqrt(test_mse)\n",
    "# R2\n",
    "test_R2 = r2_score(y_test,test_pred)\n",
    "train_R2 = r2_score(y_train,train_pred)\n",
    "print(\"==== Test Performance ====\")\n",
    "print(\"\")\n",
    "print(\"Test RMSE :\", test_RMSE)\n",
    "print(\"Test R2 :\", test_R2)\n",
    "print(\"\")\n",
    "print(\"==== Train Performance ====\")\n",
    "print(\"\")\n",
    "print(\"Train RMSE :\", train_RMSE)\n",
    "print(\"Train R2 :\", train_R2)\n"
   ]
  },
  {
   "cell_type": "markdown",
   "id": "bb79acc6-44d6-43a4-ac4d-36cffe1545f0",
   "metadata": {},
   "source": [
    "# Prediction on test data from 185 model"
   ]
  },
  {
   "cell_type": "code",
   "execution_count": 40,
   "id": "6af94d42-6104-45e5-b05a-e24de08f1bfa",
   "metadata": {},
   "outputs": [
    {
     "name": "stdout",
     "output_type": "stream",
     "text": [
      "==== Test Performance ====\n",
      "\n",
      "Test RMSE : 0.1723558818550851\n",
      "Test R2 : 0.7390398802306551\n"
     ]
    }
   ],
   "source": [
    "data = pd.read_excel(\"test_data_185.xlsx\")\n",
    "y_test_185 = data[\"Reaction\"].values\n",
    "X_test_185 = np.array(data.drop(\"Reaction\", axis = 1))\n",
    "X_test_185 = np.array(X_test_185)\n",
    "test_pred_185 = RF_md.predict(X_test_185)\n",
    "test_mse_185 = mean_squared_error(y_test_185,test_pred_185,squared=True)\n",
    "test_RMSE_185 = np.sqrt(test_mse_185)\n",
    "# R2\n",
    "test_R2_185 = r2_score(y_test_185,test_pred_185)\n",
    "print(\"==== Test Performance ====\")\n",
    "print(\"\")\n",
    "print(\"Test RMSE :\", test_RMSE_185)\n",
    "print(\"Test R2 :\", test_R2_185)"
   ]
  },
  {
   "cell_type": "code",
   "execution_count": 41,
   "id": "cbbe16a3",
   "metadata": {},
   "outputs": [],
   "source": [
    "raw_data_185 = pd.DataFrame(y_test_185, columns = [\"Y_train_185\"])\n",
    "raw_data_185[\"Test_pred_185\"] = test_pred_185\n",
    "raw_data_185.to_excel('167_predict_185.xlsx')"
   ]
  },
  {
   "cell_type": "markdown",
   "id": "130a2138-eed0-4ce9-879e-898d39fbb63f",
   "metadata": {},
   "source": [
    "# Regression plots for 185 model test data"
   ]
  },
  {
   "cell_type": "code",
   "execution_count": 17,
   "id": "be4d69a6-9403-43bb-affa-49730d2efdb5",
   "metadata": {},
   "outputs": [
    {
     "data": {
      "image/png": "[encoded data removed]",
      "text/plain": [
       "<Figure size 468x432 with 1 Axes>"
      ]
     },
     "metadata": {},
     "output_type": "display_data"
    }
   ],
   "source": [
    "import seaborn as sns\n",
    "sns.set_theme(style = 'ticks', font_scale = 1.3)\n",
    "plt.rcParams[\"figure.autolayout\"] = True\n",
    "plt.figure(figsize=(6.5, 6))\n",
    "# Training plots\n",
    "sns.regplot( x = y_test, y = test_pred, marker = 'd', scatter_kws = {\"color\": \"steelblue\",\"s\":150}, line_kws = {'linewidth':5},label = \"Data_167 [Data_185]\", color = 'k')\n",
    "plt.ylabel(\"Predicted Reaction (O2, UV)\", fontsize = 25,weight = 'bold')\n",
    "plt.xlabel(\"Actual Reaction (O2, UV)\", fontsize = 25,weight = 'bold')\n",
    "plt.legend(loc = 'upper left',fontsize=20)\n",
    "plt.tick_params(axis='both', which='major', labelsize=25, width=2, length=6)\n",
    "plt.savefig(\"Regressionplot_167_on_185_testdata.png\", dpi = 1000,bbox_inches='tight')\n",
    "plt.show()"
   ]
  },
  {
   "cell_type": "markdown",
   "id": "c7ac7dad-5dcf-47fc-9be1-ff318c3b63c9",
   "metadata": {},
   "source": [
    "# Saving test data of 167"
   ]
  },
  {
   "cell_type": "code",
   "execution_count": 55,
   "id": "ca8a3b5f-b8ef-41b5-8e92-62f295fada9f",
   "metadata": {},
   "outputs": [],
   "source": [
    "test_data = pd.DataFrame(X_test)\n",
    "test_data[\"Reaction\"] = y_test\n",
    "test_data.to_excel(\"test_data_167.xlsx\")"
   ]
  },
  {
   "cell_type": "markdown",
   "id": "12545c85",
   "metadata": {},
   "source": [
    "# Results raw data saving"
   ]
  },
  {
   "cell_type": "code",
   "execution_count": 36,
   "id": "1072d67f",
   "metadata": {},
   "outputs": [
    {
     "data": {
      "text/html": [
       "<div>\n",
       "<style scoped>\n",
       "    .dataframe tbody tr th:only-of-type {\n",
       "        vertical-align: middle;\n",
       "    }\n",
       "\n",
       "    .dataframe tbody tr th {\n",
       "        vertical-align: top;\n",
       "    }\n",
       "\n",
       "    .dataframe thead th {\n",
       "        text-align: right;\n",
       "    }\n",
       "</style>\n",
       "<table border=\"1\" class=\"dataframe\">\n",
       "  <thead>\n",
       "    <tr style=\"text-align: right;\">\n",
       "      <th></th>\n",
       "      <th>Y_train</th>\n",
       "      <th>Train_pred</th>\n",
       "    </tr>\n",
       "  </thead>\n",
       "  <tbody>\n",
       "    <tr>\n",
       "      <th>0</th>\n",
       "      <td>1.31731</td>\n",
       "      <td>1.317310</td>\n",
       "    </tr>\n",
       "    <tr>\n",
       "      <th>1</th>\n",
       "      <td>0.60200</td>\n",
       "      <td>0.651762</td>\n",
       "    </tr>\n",
       "    <tr>\n",
       "      <th>2</th>\n",
       "      <td>1.10900</td>\n",
       "      <td>1.124522</td>\n",
       "    </tr>\n",
       "    <tr>\n",
       "      <th>3</th>\n",
       "      <td>0.92100</td>\n",
       "      <td>0.935505</td>\n",
       "    </tr>\n",
       "    <tr>\n",
       "      <th>4</th>\n",
       "      <td>0.72400</td>\n",
       "      <td>0.757261</td>\n",
       "    </tr>\n",
       "  </tbody>\n",
       "</table>\n",
       "</div>"
      ],
      "text/plain": [
       "   Y_train  Train_pred\n",
       "0  1.31731    1.317310\n",
       "1  0.60200    0.651762\n",
       "2  1.10900    1.124522\n",
       "3  0.92100    0.935505\n",
       "4  0.72400    0.757261"
      ]
     },
     "execution_count": 36,
     "metadata": {},
     "output_type": "execute_result"
    }
   ],
   "source": [
    "raw_data = pd.DataFrame(y_train, columns = [\"Y_train\"])\n",
    "raw_data[\"Train_pred\"] = train_pred\n",
    "raw_data.head()"
   ]
  },
  {
   "cell_type": "code",
   "execution_count": 37,
   "id": "565891c5",
   "metadata": {},
   "outputs": [
    {
     "data": {
      "text/html": [
       "<div>\n",
       "<style scoped>\n",
       "    .dataframe tbody tr th:only-of-type {\n",
       "        vertical-align: middle;\n",
       "    }\n",
       "\n",
       "    .dataframe tbody tr th {\n",
       "        vertical-align: top;\n",
       "    }\n",
       "\n",
       "    .dataframe thead th {\n",
       "        text-align: right;\n",
       "    }\n",
       "</style>\n",
       "<table border=\"1\" class=\"dataframe\">\n",
       "  <thead>\n",
       "    <tr style=\"text-align: right;\">\n",
       "      <th></th>\n",
       "      <th>Test_pred</th>\n",
       "      <th>Y_test</th>\n",
       "    </tr>\n",
       "  </thead>\n",
       "  <tbody>\n",
       "    <tr>\n",
       "      <th>0</th>\n",
       "      <td>1.599496</td>\n",
       "      <td>1.64600</td>\n",
       "    </tr>\n",
       "    <tr>\n",
       "      <th>1</th>\n",
       "      <td>1.152545</td>\n",
       "      <td>1.13000</td>\n",
       "    </tr>\n",
       "    <tr>\n",
       "      <th>2</th>\n",
       "      <td>1.284712</td>\n",
       "      <td>1.30229</td>\n",
       "    </tr>\n",
       "    <tr>\n",
       "      <th>3</th>\n",
       "      <td>1.043299</td>\n",
       "      <td>1.01300</td>\n",
       "    </tr>\n",
       "    <tr>\n",
       "      <th>4</th>\n",
       "      <td>1.037887</td>\n",
       "      <td>1.02000</td>\n",
       "    </tr>\n",
       "  </tbody>\n",
       "</table>\n",
       "</div>"
      ],
      "text/plain": [
       "   Test_pred   Y_test\n",
       "0   1.599496  1.64600\n",
       "1   1.152545  1.13000\n",
       "2   1.284712  1.30229\n",
       "3   1.043299  1.01300\n",
       "4   1.037887  1.02000"
      ]
     },
     "execution_count": 37,
     "metadata": {},
     "output_type": "execute_result"
    }
   ],
   "source": [
    "raw_data_test = pd.DataFrame(test_pred, columns = [\"Test_pred\"])\n",
    "raw_data_test[\"Y_test\"] = y_test\n",
    "raw_data_test.head()"
   ]
  },
  {
   "cell_type": "code",
   "execution_count": 38,
   "id": "67362a9a",
   "metadata": {},
   "outputs": [],
   "source": [
    "raw_data.to_excel('Train_167_results.xlsx')\n",
    "raw_data_test.to_excel('Test_167_results.xlsx')"
   ]
  },
  {
   "cell_type": "markdown",
   "id": "3b7659b6",
   "metadata": {},
   "source": [
    "# Regression plots"
   ]
  },
  {
   "cell_type": "code",
   "execution_count": null,
   "id": "b355ae12",
   "metadata": {},
   "outputs": [],
   "source": [
    "import seaborn as sns\n",
    "sns.set_theme(style = 'ticks', font_scale = 1.3)\n",
    "plt.rcParams[\"figure.autolayout\"] = True\n",
    "fig, axes = plt.subplots(1,2, figsize=(12, 6))\n",
    "# Training plots\n",
    "sns.regplot(ax = axes[0], x = y_train, y = train_pred, marker = 'd', scatter_kws = {\"color\": \"steelblue\",\"s\":150}, line_kws = {'linewidth':5},label = \"Training\", color = 'k')\n",
    "axes[0].set_ylabel(\"Predicted Reaction (O2, UV)\", fontsize = 25,weight = 'bold')\n",
    "axes[0].set_xlabel(\"Actual Reaction (O2, UV)\", fontsize = 25,weight = 'bold')\n",
    "axes[0].legend(loc = 'upper left',fontsize=25)\n",
    "axes[0].tick_params(axis='both', which='major', labelsize=25, width=2, length=6)\n",
    "\n",
    "sns.regplot(ax = axes[1], x = y_test, y = test_pred, marker = 'd', scatter_kws = {\"color\": \"steelblue\",\"s\":150}, line_kws = {'linewidth':5},label = \"Testing\",color = 'k')\n",
    "axes[1].set_ylabel(\"Predicted Reaction (O2, UV)\", fontsize = 25,weight = 'bold')\n",
    "axes[1].set_xlabel(\"Actual Reaction (O2, UV)\", fontsize = 25,weight = 'bold')\n",
    "axes[1].tick_params(axis='both', which='major', labelsize=25, width=2, length=6)\n",
    "axes[1].legend(loc = 'upper left',fontsize=25)\n",
    "plt.savefig(\"Regressionplot_167.png\", dpi = 1000,bbox_inches='tight')\n",
    "plt.show()"
   ]
  },
  {
   "cell_type": "code",
   "execution_count": null,
   "id": "8a4dbecc",
   "metadata": {},
   "outputs": [],
   "source": [
    "# Get feature importance values\n",
    "feature_importance = RF_md.feature_importances_"
   ]
  },
  {
   "cell_type": "code",
   "execution_count": null,
   "id": "140018a2",
   "metadata": {},
   "outputs": [],
   "source": [
    "# Solute type importance\n",
    "solute_type = np.mean(feature_importance[0] +feature_importance[1])\n",
    "\n",
    "# Solvent type importance\n",
    "sol = 0\n",
    "for i in range(2,27):\n",
    "    sol = sol + feature_importance[i]\n",
    "solvent_type = sol/25\n",
    "\n",
    "# Adehyde type importance\n",
    "ald = 0\n",
    "for i in range(27,36):\n",
    "    ald = ald + feature_importance[i]\n",
    "aldehyde_type = ald/9\n",
    "\n",
    "# Solute volume impotance \n",
    "solute_v = feature_importance[36]\n",
    "solvent_v = feature_importance[37]\n",
    "aldehyde_v = feature_importance[38]\n",
    "\n",
    "print(\"solute_type\", \":\", solute_type)\n",
    "print(\"solvent_type\", \":\", solvent_type) \n",
    "print(\"aldehyde_type\", \":\", aldehyde_type) \n",
    "print(\"solute_v\", \":\", solute_v) \n",
    "print(\"solvent_v\", \":\", solvent_v)\n",
    "print(\"aldehyde_v\", \":\", aldehyde_v)\n",
    "\n",
    "# # Features\n",
    "feature_names = ['Solvent_type','Aldehyde_type','Solvent_V','Aldehyde_V','Solute_type','Solute_V']\n",
    "importance_scores = [solvent_type,aldehyde_type,solvent_v,aldehyde_v,solute_type,solute_v]\n"
   ]
  },
  {
   "cell_type": "code",
   "execution_count": null,
   "id": "a81bb519-adf1-4b03-b8fb-96c24c974ae2",
   "metadata": {},
   "outputs": [],
   "source": [
    "importance_scores = [solvent_type,aldehyde_type,solvent_v,aldehyde_v,solute_type,solute_v]\n"
   ]
  },
  {
   "cell_type": "code",
   "execution_count": null,
   "id": "034da97a-a3d0-4f88-b47a-6d6304d66b82",
   "metadata": {},
   "outputs": [],
   "source": [
    "feature_names = ['Solvent_type','Aldehyde_type','Solvent_V','Aldehyde_V','Solute_type','Solute_V']\n",
    "importance_scores = [solvent_type,aldehyde_type,solvent_v,aldehyde_v,solute_type,solute_v]\n",
    "\n",
    "# Create a horizontal bar plot\n",
    "plt.barh(range(len(feature_names)), importance_scores, align='center', color = 'steelblue')\n",
    "plt.yticks(range(len(feature_names)), feature_names)\n",
    "plt.xlabel('Importance Score', fontsize = 25,weight = 'bold')\n",
    "plt.ylabel('Features', fontsize = 25,weight = 'bold')\n",
    "plt.savefig(\"Featureimportance_167.png\", dpi = 1000,bbox_inches='tight')\n",
    "# Display the plot\n",
    "plt.show()"
   ]
  },
  {
   "cell_type": "markdown",
   "id": "26e36929-2a37-42be-a085-19d735772ba3",
   "metadata": {},
   "source": [
    "# Prediction on bad and good ones results"
   ]
  },
  {
   "cell_type": "code",
   "execution_count": null,
   "id": "6743c810-b2b3-4065-89e0-aec7b840796a",
   "metadata": {},
   "outputs": [],
   "source": []
  },
  {
   "cell_type": "markdown",
   "id": "20b184c6-ce5b-4827-87c1-98f5480474a6",
   "metadata": {},
   "source": [
    "### Bad one analysis"
   ]
  },
  {
   "cell_type": "code",
   "execution_count": null,
   "id": "29b347d9-9638-4e7b-a44f-b7f01bf893f5",
   "metadata": {},
   "outputs": [],
   "source": [
    "Bad_data = pd.read_excel(\"bad_ones.xlsx\")\n",
    "print(Bad_data.shape)\n",
    "Bad_data.head()"
   ]
  },
  {
   "cell_type": "code",
   "execution_count": null,
   "id": "50e7fb45-57f0-4d74-a474-976559cbd06e",
   "metadata": {},
   "outputs": [],
   "source": [
    "X = Bad_data[['Solute',\n",
    " 'Solute_V',\n",
    " 'Solvent',\n",
    " 'Solvent_V',\n",
    " 'Aldehyde',\n",
    " 'Aldehyde_V']].values"
   ]
  },
  {
   "cell_type": "code",
   "execution_count": null,
   "id": "cf965cc9-525c-427e-bc7a-e84cce924dd6",
   "metadata": {},
   "outputs": [],
   "source": [
    "categorical_features = [0, 2, 4]\n",
    "X_encoded = onehot_encoder.transform(X[:, categorical_features])\n",
    "numerical_features = [1, 3, 5]  # Specify the indices of numerical columns\n",
    "X_processed = np.concatenate((X_encoded, X[:, numerical_features]), axis=1)\n",
    "predictions = RF_md.predict(X_processed)\n",
    "predictions = pd.DataFrame(predictions)\n",
    "predictions.to_excel(\"reaction.xlsx\", index=False)"
   ]
  },
  {
   "cell_type": "markdown",
   "id": "871f8edc",
   "metadata": {},
   "source": [
    "# Model Saving"
   ]
  },
  {
   "cell_type": "code",
   "execution_count": null,
   "id": "d6dea17d",
   "metadata": {},
   "outputs": [],
   "source": [
    "import pickle \n",
    "pickle.dump(RF_md, open('reaction_model','wb'))"
   ]
  },
  {
   "cell_type": "markdown",
   "id": "228735fa",
   "metadata": {},
   "source": [
    "# Optimization of inputs using Decision tree model"
   ]
  },
  {
   "cell_type": "code",
   "execution_count": null,
   "id": "86de99c7",
   "metadata": {},
   "outputs": [],
   "source": [
    "from sklearn.tree import DecisionTreeRegressor\n",
    "def fun3bar(X):\n",
    "    A = int(np.round(X[0]))\n",
    "    B = X[1]\n",
    "    C = int(np.round(X[2]))\n",
    "    D = int(np.round(X[3]))\n",
    "    E = X[4]\n",
    "    if D == 8 or E == 0:\n",
    "        E = 0\n",
    "        D = 8\n",
    "    \n",
    "    G = 200 - B - E # solvent amount\n",
    "    sol = ['BzOH','a-m-BzOH']\n",
    "    solvent = ['1-octanol','Benzonitrile','butanone','cyclohexanone','1,2-dichloroethane','chloroform','ethyl acetate',\n",
    "               'toluene','xylene','cyclohexane','2-hexanone','butyl acetate']\n",
    "    aldehyde = ['benzaldehyde','acetophenone','p-Tolualdehyde','4-Fluorobenzaldehyde','1-(p-Tolyl)ethanone',\n",
    "                '1-(4-Fluorophenyl)ethanone','benzophenone','xanthone','x']\n",
    "    solute_type = sol[A]\n",
    "    solvent_type = solvent[C] \n",
    "    aldehyde_type = aldehyde[D]\n",
    "    new_data = [solute_type,B,solute_type,G,aldehyde_type,E]  # Replace '...' with your new data\n",
    "    X = np.array(new_data).reshape(1,6)\n",
    "    categorical_features = [0, 2, 4]\n",
    "    X_encoded = onehot_encoder.transform(X[:, categorical_features])\n",
    "    numerical_features = [1, 3, 5]  # Specify the indices of numerical columns\n",
    "    X_processed = np.concatenate((X_encoded, X[:, numerical_features]), axis=1)\n",
    "    predictions = RF_md.predict(X_processed)\n",
    "    return -predictions\n",
    "# Make predictions on new data\n"
   ]
  },
  {
   "cell_type": "code",
   "execution_count": null,
   "id": "5a6f3f0e",
   "metadata": {
    "scrolled": true
   },
   "outputs": [],
   "source": [
    "import warnings\n",
    "warnings.filterwarnings(\"ignore\")\n",
    "lb = [0,20,0,0,0.02]\n",
    "ub = [1,160,11,7,20] \n",
    "pos = list()\n",
    "N = 50 # Population size\n",
    "D = 5   # Number of variables\n",
    "itermax = 100\n",
    "  # Upper bounds of variables%% Generating the initial population\n",
    "for i in range(0,N):\n",
    "   metric = list()\n",
    "   for j in range(0,D):\n",
    "      rad = np.random.rand()\n",
    "      pop = lb[j] + rad*(ub[j] - lb[j])\n",
    "      metric.append(pop)\n",
    "   metric = np.array(metric)\n",
    "   metric = np.reshape(metric,[1,D])\n",
    "   pos.append(metric)\n",
    "print(\"Evaluation start\")       \n",
    "# Evaluate objective function\n",
    "fx = list()\n",
    "for i in range(0,N):\n",
    "   G = pos[i] \n",
    "   X = np.reshape(G,[D,1])\n",
    "   fx_val = fun3bar(X) # compute the objective \n",
    "   fx.append(fx_val)\n",
    "# Intialize gbest\n",
    "fminvalue = np.min(fx) #Finding Minimum Value\n",
    "ind = fx.index(fminvalue)\n",
    "gbest = pos[ind] #Finding corresponding position\n",
    "# GWO main loop start\n",
    "iter = 0\n",
    "Bestfx = list()\n",
    "BestX = list()\n",
    "while iter <=itermax-1:\n",
    "    \n",
    "    Fgbest = fminvalue #Best value obtained so far\n",
    "    Best = np.min(fx) #Finding Best Value \n",
    "    Bestind = fx.index(Best)\n",
    "    Xbest = pos[Bestind]\n",
    "    Worst = np.max(fx) # Finding Worst Value\n",
    "    Worstind = fx.index(Worst)\n",
    "    Xworst = pos[Worstind]\n",
    "    for i in range(0,N):\n",
    "        X = pos[i]\n",
    "        pos1 = pos\n",
    "        rad_num = np.random.rand(1,D)\n",
    "        Xnew = X + rad_num*(Xbest - Xworst)\n",
    "       \n",
    "         # Check the bound\n",
    "        Xnew = Xnew[0]\n",
    "        for k in range(0,len(Xnew)):\n",
    "           \n",
    "           if Xnew[k] < lb[k]:\n",
    "              Xnew[k] = lb[k]\n",
    "           if Xnew[k] > ub[k]:\n",
    "              Xnew[k] = ub[k] \n",
    "        \n",
    "        fnew = fun3bar(Xnew) #  Compute the function value at Xnew\n",
    "        Xnew = np.reshape(Xnew,[1,D])\n",
    "        # Greedy selection\n",
    "        if fnew<fx[i]:  # Compare the new fitness value with previous\n",
    "            pos[i] = Xnew #Update position particles\n",
    "            fx[i] = fnew  #Update function value\n",
    "        \n",
    "    # END og for i = N loop\n",
    "    \n",
    "    # Update GBEST \n",
    "    fmin = np.min(fx)\n",
    "    find = fx.index(fmin)\n",
    "    # Compare the best value with previous one\n",
    "    if fmin<Fgbest: \n",
    "        Fgbest = fmin #Update the best function value\n",
    "        gbest = pos[find] #Update optimal solution\n",
    "    \n",
    "    # Memorize the best\n",
    "    optval = min(fx) # Finding the best one\n",
    "    optind = fx.index(optval)\n",
    "    Bestfx.append(optval) \n",
    "    BestX.append(pos[optind]) \n",
    "    \n",
    "    # Show iteration information\n",
    "    print('Iteration ',iter,':','Best Cost = ' ,Bestfx[iter])\n",
    "    # (\"plot\")\n",
    "    # Ploting the Result\n",
    "    plt.plot(Bestfx)\n",
    "    plt.xlabel('Iteration Number')\n",
    "    plt.ylabel('Fitness value')\n",
    "    plt.title('Convergence vs Iteration')\n",
    "    iter = iter + 1;\n",
    "# END while  LOOP"
   ]
  },
  {
   "cell_type": "code",
   "execution_count": null,
   "id": "6526524c",
   "metadata": {},
   "outputs": [],
   "source": [
    "p1_ = np.array(pos)\n",
    "f1_ = np.array(fx)\n",
    "# Sort the output array while maintaining correspondence with the input array\n",
    "sorted_data = sorted(zip(p1_, f1_), key=lambda x: x[1])\n",
    "sorted_input, sorted_output = zip(*sorted_data)\n",
    "\n",
    "# Convert the sorted input and output back to numpy arrays\n",
    "p1 = np.array(sorted_input)\n",
    "f1 = np.array(sorted_output)\n",
    "store_optimize_data = []\n",
    "\n",
    "for i in range(0,49):\n",
    "    gbest = p1[i].reshape(1,5)\n",
    "    Fgbest = f1[i]\n",
    "    sol = ['BzOH','a-m-BzOH']\n",
    "    solvent = ['1-octanol','Benzonitrile','butanone','cyclohexanone','1,2-dichloroethane','chloroform','ethyl acetate',\n",
    "               'toluene','xylene','cyclohexane','2-hexanone','butyl acetate']\n",
    "    aldehyde = ['benzaldehyde','acetophenone','p-Tolualdehyde','4-Fluorobenzaldehyde','1-(p-Tolyl)ethanone',\n",
    "                '1-(4-Fluorophenyl)ethanone','benzophenone','xanthone','x']\n",
    "    solute_type = sol[int(np.round(gbest[:,0]))]\n",
    "    solute_v =  gbest[:,1][0]\n",
    "    solvent_type = solvent[int(np.round(gbest[:,2]))] \n",
    "    al_type = int(np.round(gbest[:,3]))\n",
    "    al_v = gbest[:,4]\n",
    "    if al_type == 8 or al_v == 0:\n",
    "        al_type = 8\n",
    "        al_v = 0\n",
    "    aldehyde_type = aldehyde[al_type] \n",
    "    aldehyde_v = al_v\n",
    "    solvent_v = 200 - solute_v - aldehyde_v\n",
    "    Reaction = abs(Fgbest)\n",
    "    ddd = [solute_type,solute_v,solvent_type,solvent_v,aldehyde_type,aldehyde_v,Reaction]\n",
    "    store_optimize_data.append(ddd)    \n",
    "    \n",
    "sss = np.array(store_optimize_data)\n",
    "sss = pd.DataFrame(sss, columns = [['Solvent_type','solute_v','Solvent_type','Solvent_V','Aldehyde_type','Aldehyde_V','Reaction']])\n",
    "sss.to_excel(\"3rd_model_optimized_results.xlsx\")\n"
   ]
  },
  {
   "cell_type": "markdown",
   "id": "dcf9caf4",
   "metadata": {},
   "source": [
    "# Random output of the model with random input"
   ]
  },
  {
   "cell_type": "code",
   "execution_count": null,
   "id": "78b58f22",
   "metadata": {
    "scrolled": true
   },
   "outputs": [],
   "source": [
    "import random\n",
    "solute_type = ['BzOH','a-m-BzOH']\n",
    "solute_v = [20,30,40,50,60,70,80,90,100,110,120,130,140,150]\n",
    "aldehyde_type = ['benzaldehyde','acetophenone','p-Tolualdehyde','4-Fluorobenzaldehyde','1-(p-Tolyl)ethanone',\n",
    "                '1-(4-Fluorophenyl)ethanone','benzophenone','xanthone','x']\n",
    "aldehyde_v = [0,0.02,0.2,2,10,20,40]\n",
    "\n",
    "solvent_type = ['1-octanol','Benzonitrile','butanone','cyclohexanone','1,2-dichloroethane','chloroform','ethyl acetate',\n",
    "               'toluene','xylene','cyclohexane','2-hexanone','butyl acetate']\n",
    "\n",
    "stored_rows = []\n",
    "L = 0 \n",
    "\n",
    "for _ in range(4000): \n",
    "    L += 1 \n",
    "    print(\"Iteration:\", L)\n",
    "    row = [random.choice(solute_type), random.choice(solute_v), random.choice(aldehyde_type),\n",
    "           random.choice(aldehyde_v), random.choice(solvent_type)]\n",
    "\n",
    "    if row[2] == 'x' or row[3] == 0: \n",
    "        row[2] = 'x'\n",
    "        row[3] = 0 \n",
    "        \n",
    "    solvent_v = 200 - row[1] - row[3]\n",
    "    row.append(solvent_v)\n",
    "    stored_rows.append(row)\n",
    "\n",
    "stored_rows = list(set(tuple(row) for row in stored_rows))\n",
    "stored_rows = [list(row) for row in stored_rows]"
   ]
  },
  {
   "cell_type": "code",
   "execution_count": null,
   "id": "7665a87b",
   "metadata": {},
   "outputs": [],
   "source": [
    "print(\"-----------------------\")\n",
    "print(\"Checking for Duplicate Rows:\")\n",
    "duplicates = set()\n",
    "for i, row in enumerate(stored_rows):\n",
    "    if row in stored_rows[i + 1:]:\n",
    "        duplicates.add(tuple(row))\n",
    "\n",
    "if duplicates:\n",
    "    print(\"Duplicate Rows Found:\")\n",
    "    for duplicate in duplicates:\n",
    "        print(duplicate)\n",
    "else:\n",
    "    print(\"No Duplicate Rows Found.\")"
   ]
  },
  {
   "cell_type": "code",
   "execution_count": null,
   "id": "88c54d2c",
   "metadata": {},
   "outputs": [],
   "source": [
    "# Convert stored_rows to a pandas DataFrame\n",
    "df = pd.DataFrame(stored_rows, columns=[\"Solute_type\", \"Solute_v\", \"Aldehyde_type\",\n",
    "                                         \"Aldehyde_v\", \"Solvent_type\", \"Solvent_v\"])\n",
    "\n",
    "# Save the DataFrame to an Excel file\n",
    "df.to_excel(\"randomly_genrated.xlsx\", index=False)"
   ]
  },
  {
   "cell_type": "markdown",
   "id": "47a4a8e6",
   "metadata": {},
   "source": [
    "# Prediction over data"
   ]
  },
  {
   "cell_type": "code",
   "execution_count": 16,
   "id": "0a4cf8ee",
   "metadata": {},
   "outputs": [
    {
     "name": "stdout",
     "output_type": "stream",
     "text": [
      "(19152, 6)\n"
     ]
    },
    {
     "data": {
      "text/html": [
       "<div>\n",
       "<style scoped>\n",
       "    .dataframe tbody tr th:only-of-type {\n",
       "        vertical-align: middle;\n",
       "    }\n",
       "\n",
       "    .dataframe tbody tr th {\n",
       "        vertical-align: top;\n",
       "    }\n",
       "\n",
       "    .dataframe thead th {\n",
       "        text-align: right;\n",
       "    }\n",
       "</style>\n",
       "<table border=\"1\" class=\"dataframe\">\n",
       "  <thead>\n",
       "    <tr style=\"text-align: right;\">\n",
       "      <th></th>\n",
       "      <th>Solute_type</th>\n",
       "      <th>Solute_v</th>\n",
       "      <th>Aldehyde_type</th>\n",
       "      <th>Aldehyde_v</th>\n",
       "      <th>Solvent_type</th>\n",
       "      <th>Solvent_v</th>\n",
       "    </tr>\n",
       "  </thead>\n",
       "  <tbody>\n",
       "    <tr>\n",
       "      <th>0</th>\n",
       "      <td>BzOH</td>\n",
       "      <td>40</td>\n",
       "      <td>benzophenone</td>\n",
       "      <td>2.00</td>\n",
       "      <td>cyclohexane</td>\n",
       "      <td>158.00</td>\n",
       "    </tr>\n",
       "    <tr>\n",
       "      <th>1</th>\n",
       "      <td>a-m-BzOH</td>\n",
       "      <td>80</td>\n",
       "      <td>1-(p-Tolyl)ethanone</td>\n",
       "      <td>0.00</td>\n",
       "      <td>chloroform</td>\n",
       "      <td>120.00</td>\n",
       "    </tr>\n",
       "    <tr>\n",
       "      <th>2</th>\n",
       "      <td>a-m-BzOH</td>\n",
       "      <td>60</td>\n",
       "      <td>1-(4-Fluorophenyl)ethanone</td>\n",
       "      <td>0.02</td>\n",
       "      <td>2-hexanone</td>\n",
       "      <td>139.98</td>\n",
       "    </tr>\n",
       "    <tr>\n",
       "      <th>3</th>\n",
       "      <td>a-m-BzOH</td>\n",
       "      <td>30</td>\n",
       "      <td>xanthone</td>\n",
       "      <td>2.00</td>\n",
       "      <td>butanone</td>\n",
       "      <td>168.00</td>\n",
       "    </tr>\n",
       "    <tr>\n",
       "      <th>4</th>\n",
       "      <td>BzOH</td>\n",
       "      <td>100</td>\n",
       "      <td>p-Tolualdehyde</td>\n",
       "      <td>20.00</td>\n",
       "      <td>toluene</td>\n",
       "      <td>80.00</td>\n",
       "    </tr>\n",
       "  </tbody>\n",
       "</table>\n",
       "</div>"
      ],
      "text/plain": [
       "  Solute_type  Solute_v               Aldehyde_type  Aldehyde_v Solvent_type  \\\n",
       "0        BzOH        40                benzophenone        2.00  cyclohexane   \n",
       "1    a-m-BzOH        80         1-(p-Tolyl)ethanone        0.00   chloroform   \n",
       "2    a-m-BzOH        60  1-(4-Fluorophenyl)ethanone        0.02   2-hexanone   \n",
       "3    a-m-BzOH        30                    xanthone        2.00     butanone   \n",
       "4        BzOH       100              p-Tolualdehyde       20.00      toluene   \n",
       "\n",
       "   Solvent_v  \n",
       "0     158.00  \n",
       "1     120.00  \n",
       "2     139.98  \n",
       "3     168.00  \n",
       "4      80.00  "
      ]
     },
     "execution_count": 16,
     "metadata": {},
     "output_type": "execute_result"
    }
   ],
   "source": [
    "dataset = pd.read_excel(\"randomly_genrated_1000,000_old.xlsx\")\n",
    "print(dataset.shape)\n",
    "dataset.head()"
   ]
  },
  {
   "cell_type": "code",
   "execution_count": null,
   "id": "8d04a170",
   "metadata": {},
   "outputs": [],
   "source": [
    "duplicates = dataset.duplicated()\n",
    "duplicates"
   ]
  },
  {
   "cell_type": "code",
   "execution_count": null,
   "id": "90481e10",
   "metadata": {},
   "outputs": [],
   "source": [
    "duplicates_rows = dataset[duplicates]\n",
    "duplicates_rows"
   ]
  },
  {
   "cell_type": "code",
   "execution_count": 17,
   "id": "0d5491dc",
   "metadata": {},
   "outputs": [
    {
     "data": {
      "text/plain": [
       "['Solute_type',\n",
       " 'Solute_v',\n",
       " 'Aldehyde_type',\n",
       " 'Aldehyde_v',\n",
       " 'Solvent_type',\n",
       " 'Solvent_v']"
      ]
     },
     "execution_count": 17,
     "metadata": {},
     "output_type": "execute_result"
    }
   ],
   "source": [
    "dataset.columns.to_list()"
   ]
  },
  {
   "cell_type": "code",
   "execution_count": 18,
   "id": "62b2b55e",
   "metadata": {},
   "outputs": [],
   "source": [
    "X = dataset[['Solute_type',\n",
    " 'Solute_v',\n",
    " 'Solvent_type',\n",
    " 'Solvent_v',\n",
    " 'Aldehyde_type',\n",
    " 'Aldehyde_v']].values"
   ]
  },
  {
   "cell_type": "code",
   "execution_count": 19,
   "id": "e71564f9",
   "metadata": {},
   "outputs": [],
   "source": [
    "categorical_features = [0, 2, 4]  # Specify the indices of categorical columns\n",
    "X_encoded = onehot_encoder.transform(X[:, categorical_features])\n",
    "numerical_features = [1, 3, 5]  # Specify the indices of numerical columns\n",
    "X_processed = np.concatenate((X_encoded, X[:, numerical_features]), axis=1)"
   ]
  },
  {
   "cell_type": "code",
   "execution_count": 20,
   "id": "711eb676",
   "metadata": {},
   "outputs": [
    {
     "name": "stdout",
     "output_type": "stream",
     "text": [
      "(19152, 39)\n"
     ]
    }
   ],
   "source": [
    "print(X_processed.shape)"
   ]
  },
  {
   "cell_type": "code",
   "execution_count": 21,
   "id": "30d534da",
   "metadata": {},
   "outputs": [],
   "source": [
    "predictions = RF_md.predict(X_processed)"
   ]
  },
  {
   "cell_type": "code",
   "execution_count": 22,
   "id": "c33c2bdc",
   "metadata": {},
   "outputs": [],
   "source": [
    "predictions = pd.DataFrame(predictions)\n",
    "predictions.to_excel(\"reaction.xlsx\", index=False)"
   ]
  },
  {
   "cell_type": "markdown",
   "id": "7f6f5c0a-7a49-483d-841c-b24920071a59",
   "metadata": {},
   "source": [
    "# Data descing order"
   ]
  },
  {
   "cell_type": "code",
   "execution_count": 23,
   "id": "197a33d1-d86e-4f25-aa90-6dee5ee30686",
   "metadata": {},
   "outputs": [
    {
     "name": "stdout",
     "output_type": "stream",
     "text": [
      "(19152, 7)\n"
     ]
    },
    {
     "data": {
      "text/html": [
       "<div>\n",
       "<style scoped>\n",
       "    .dataframe tbody tr th:only-of-type {\n",
       "        vertical-align: middle;\n",
       "    }\n",
       "\n",
       "    .dataframe tbody tr th {\n",
       "        vertical-align: top;\n",
       "    }\n",
       "\n",
       "    .dataframe thead th {\n",
       "        text-align: right;\n",
       "    }\n",
       "</style>\n",
       "<table border=\"1\" class=\"dataframe\">\n",
       "  <thead>\n",
       "    <tr style=\"text-align: right;\">\n",
       "      <th></th>\n",
       "      <th>Solute_type</th>\n",
       "      <th>Solute_v</th>\n",
       "      <th>Aldehyde_type</th>\n",
       "      <th>Aldehyde_v</th>\n",
       "      <th>Solvent_type</th>\n",
       "      <th>Solvent_v</th>\n",
       "      <th>Reaction</th>\n",
       "    </tr>\n",
       "  </thead>\n",
       "  <tbody>\n",
       "    <tr>\n",
       "      <th>0</th>\n",
       "      <td>BzOH</td>\n",
       "      <td>40</td>\n",
       "      <td>benzophenone</td>\n",
       "      <td>2.00</td>\n",
       "      <td>cyclohexane</td>\n",
       "      <td>158.00</td>\n",
       "      <td>1.034333</td>\n",
       "    </tr>\n",
       "    <tr>\n",
       "      <th>1</th>\n",
       "      <td>a-m-BzOH</td>\n",
       "      <td>80</td>\n",
       "      <td>1-(p-Tolyl)ethanone</td>\n",
       "      <td>0.00</td>\n",
       "      <td>chloroform</td>\n",
       "      <td>120.00</td>\n",
       "      <td>0.774300</td>\n",
       "    </tr>\n",
       "    <tr>\n",
       "      <th>2</th>\n",
       "      <td>a-m-BzOH</td>\n",
       "      <td>60</td>\n",
       "      <td>1-(4-Fluorophenyl)ethanone</td>\n",
       "      <td>0.02</td>\n",
       "      <td>2-hexanone</td>\n",
       "      <td>139.98</td>\n",
       "      <td>0.804379</td>\n",
       "    </tr>\n",
       "    <tr>\n",
       "      <th>3</th>\n",
       "      <td>a-m-BzOH</td>\n",
       "      <td>30</td>\n",
       "      <td>xanthone</td>\n",
       "      <td>2.00</td>\n",
       "      <td>butanone</td>\n",
       "      <td>168.00</td>\n",
       "      <td>1.162578</td>\n",
       "    </tr>\n",
       "    <tr>\n",
       "      <th>4</th>\n",
       "      <td>BzOH</td>\n",
       "      <td>100</td>\n",
       "      <td>p-Tolualdehyde</td>\n",
       "      <td>20.00</td>\n",
       "      <td>toluene</td>\n",
       "      <td>80.00</td>\n",
       "      <td>0.844067</td>\n",
       "    </tr>\n",
       "  </tbody>\n",
       "</table>\n",
       "</div>"
      ],
      "text/plain": [
       "  Solute_type  Solute_v               Aldehyde_type  Aldehyde_v Solvent_type  \\\n",
       "0        BzOH        40                benzophenone        2.00  cyclohexane   \n",
       "1    a-m-BzOH        80         1-(p-Tolyl)ethanone        0.00   chloroform   \n",
       "2    a-m-BzOH        60  1-(4-Fluorophenyl)ethanone        0.02   2-hexanone   \n",
       "3    a-m-BzOH        30                    xanthone        2.00     butanone   \n",
       "4        BzOH       100              p-Tolualdehyde       20.00      toluene   \n",
       "\n",
       "   Solvent_v  Reaction  \n",
       "0     158.00  1.034333  \n",
       "1     120.00  0.774300  \n",
       "2     139.98  0.804379  \n",
       "3     168.00  1.162578  \n",
       "4      80.00  0.844067  "
      ]
     },
     "execution_count": 23,
     "metadata": {},
     "output_type": "execute_result"
    }
   ],
   "source": [
    "dataset = pd.read_excel(\"randomly_genrated_1000,000_old.xlsx\")\n",
    "print(dataset.shape)\n",
    "dataset.head()"
   ]
  },
  {
   "cell_type": "code",
   "execution_count": 24,
   "id": "b378d5df-7cad-4129-ad6d-7de1d55969b0",
   "metadata": {},
   "outputs": [
    {
     "data": {
      "text/html": [
       "<div>\n",
       "<style scoped>\n",
       "    .dataframe tbody tr th:only-of-type {\n",
       "        vertical-align: middle;\n",
       "    }\n",
       "\n",
       "    .dataframe tbody tr th {\n",
       "        vertical-align: top;\n",
       "    }\n",
       "\n",
       "    .dataframe thead th {\n",
       "        text-align: right;\n",
       "    }\n",
       "</style>\n",
       "<table border=\"1\" class=\"dataframe\">\n",
       "  <thead>\n",
       "    <tr style=\"text-align: right;\">\n",
       "      <th></th>\n",
       "      <th>Solute_type</th>\n",
       "      <th>Solute_v</th>\n",
       "      <th>Aldehyde_type</th>\n",
       "      <th>Aldehyde_v</th>\n",
       "      <th>Solvent_type</th>\n",
       "      <th>Solvent_v</th>\n",
       "      <th>Reaction</th>\n",
       "    </tr>\n",
       "  </thead>\n",
       "  <tbody>\n",
       "    <tr>\n",
       "      <th>16676</th>\n",
       "      <td>a-m-BzOH</td>\n",
       "      <td>150</td>\n",
       "      <td>benzophenone</td>\n",
       "      <td>2.0</td>\n",
       "      <td>chloroform</td>\n",
       "      <td>48.0</td>\n",
       "      <td>1.599496</td>\n",
       "    </tr>\n",
       "    <tr>\n",
       "      <th>5749</th>\n",
       "      <td>BzOH</td>\n",
       "      <td>150</td>\n",
       "      <td>benzophenone</td>\n",
       "      <td>2.0</td>\n",
       "      <td>chloroform</td>\n",
       "      <td>48.0</td>\n",
       "      <td>1.581092</td>\n",
       "    </tr>\n",
       "    <tr>\n",
       "      <th>9270</th>\n",
       "      <td>a-m-BzOH</td>\n",
       "      <td>150</td>\n",
       "      <td>benzophenone</td>\n",
       "      <td>10.0</td>\n",
       "      <td>chloroform</td>\n",
       "      <td>40.0</td>\n",
       "      <td>1.538085</td>\n",
       "    </tr>\n",
       "    <tr>\n",
       "      <th>17537</th>\n",
       "      <td>BzOH</td>\n",
       "      <td>150</td>\n",
       "      <td>benzophenone</td>\n",
       "      <td>10.0</td>\n",
       "      <td>chloroform</td>\n",
       "      <td>40.0</td>\n",
       "      <td>1.523442</td>\n",
       "    </tr>\n",
       "    <tr>\n",
       "      <th>12927</th>\n",
       "      <td>a-m-BzOH</td>\n",
       "      <td>150</td>\n",
       "      <td>benzophenone</td>\n",
       "      <td>2.0</td>\n",
       "      <td>butanone</td>\n",
       "      <td>48.0</td>\n",
       "      <td>1.520935</td>\n",
       "    </tr>\n",
       "  </tbody>\n",
       "</table>\n",
       "</div>"
      ],
      "text/plain": [
       "      Solute_type  Solute_v Aldehyde_type  Aldehyde_v Solvent_type  Solvent_v  \\\n",
       "16676    a-m-BzOH       150  benzophenone         2.0   chloroform       48.0   \n",
       "5749         BzOH       150  benzophenone         2.0   chloroform       48.0   \n",
       "9270     a-m-BzOH       150  benzophenone        10.0   chloroform       40.0   \n",
       "17537        BzOH       150  benzophenone        10.0   chloroform       40.0   \n",
       "12927    a-m-BzOH       150  benzophenone         2.0     butanone       48.0   \n",
       "\n",
       "       Reaction  \n",
       "16676  1.599496  \n",
       "5749   1.581092  \n",
       "9270   1.538085  \n",
       "17537  1.523442  \n",
       "12927  1.520935  "
      ]
     },
     "execution_count": 24,
     "metadata": {},
     "output_type": "execute_result"
    }
   ],
   "source": [
    "# Sort the DataFrame in descending order based on the last column\n",
    "df_sorted = dataset.sort_values(by=dataset.columns[-1], ascending=False)\n",
    "df_sorted.head()"
   ]
  },
  {
   "cell_type": "code",
   "execution_count": 25,
   "id": "57f0dc03-c17c-4bad-9ad6-da1cca9f0854",
   "metadata": {},
   "outputs": [],
   "source": [
    "df_sorted.to_excel(\"order_randomly_genrated_1000,000_old.xlsx\")"
   ]
  },
  {
   "cell_type": "code",
   "execution_count": null,
   "id": "23f607b2-078f-4f1b-8b24-78cfb392e581",
   "metadata": {},
   "outputs": [],
   "source": []
  }
 ],
 "metadata": {
  "kernelspec": {
   "display_name": "Python 3 (ipykernel)",
   "language": "python",
   "name": "python3"
  },
  "language_info": {
   "codemirror_mode": {
    "name": "ipython",
    "version": 3
   },
   "file_extension": ".py",
   "mimetype": "text/x-python",
   "name": "python",
   "nbconvert_exporter": "python",
   "pygments_lexer": "ipython3",
   "version": "3.9.12"
  },
  "varInspector": {
   "cols": {
    "lenName": 16,
    "lenType": 16,
    "lenVar": 40
   },
   "kernels_config": {
    "python": {
     "delete_cmd_postfix": "",
     "delete_cmd_prefix": "del ",
     "library": "var_list.py",
     "varRefreshCmd": "print(var_dic_list())"
    },
    "r": {
     "delete_cmd_postfix": ") ",
     "delete_cmd_prefix": "rm(",
     "library": "var_list.r",
     "varRefreshCmd": "cat(var_dic_list()) "
    }
   },
   "types_to_exclude": [
    "module",
    "function",
    "builtin_function_or_method",
    "instance",
    "_Feature"
   ],
   "window_display": false
  }
 },
 "nbformat": 4,
 "nbformat_minor": 5
}
